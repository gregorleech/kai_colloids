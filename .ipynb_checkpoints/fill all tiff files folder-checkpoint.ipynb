{
 "cells": [
  {
   "cell_type": "code",
   "execution_count": 1,
   "id": "4eef39e4",
   "metadata": {},
   "outputs": [
    {
     "name": "stdout",
     "output_type": "stream",
     "text": [
      "nd2reader module not found. Reading of .nd2 files disabled.\n"
     ]
    },
    {
     "name": "stderr",
     "output_type": "stream",
     "text": [
      "C:\\Users\\gleech\\Documents\\GitHub\\kai codes\\kai_colloids\\tiff_file.py:1995: UserWarning: failed to import _tifffile.decodepackbits\n",
      "  warnings.warn(\"failed to import %s\" % module_function)\n",
      "C:\\Users\\gleech\\Documents\\GitHub\\kai codes\\kai_colloids\\tiff_file.py:1995: UserWarning: failed to import _tifffile.decodelzw\n",
      "  warnings.warn(\"failed to import %s\" % module_function)\n",
      "C:\\Users\\gleech\\Documents\\GitHub\\kai codes\\kai_colloids\\tiff_file.py:1995: UserWarning: failed to import _tifffile.unpackints\n",
      "  warnings.warn(\"failed to import %s\" % module_function)\n"
     ]
    }
   ],
   "source": [
    "%matplotlib notebook\n",
    "import numpy as np\n",
    "from numpy.fft import fft2, ifft2, fftshift\n",
    "import matplotlib\n",
    "from matplotlib import pyplot as plt\n",
    "from matplotlib import cm\n",
    "import scipy\n",
    "from scipy.ndimage import gaussian_filter1d as gf1d\n",
    "from scipy.ndimage import gaussian_filter as gf\n",
    "from scipy.ndimage import uniform_filter as uf\n",
    "\n",
    "import sys\n",
    "sys.path.append(\"../kai_colloids/PyDDM\") #must point to the PyDDM folder\n",
    "import ddm_analysis_and_fitting as ddm\n",
    "\n",
    "import tiff_file\n",
    "import ddm_clean \n",
    "\n",
    "import io \n",
    "import sys\n",
    "import csv\n",
    "import os\n",
    "import glob #glob is helpful for searching for filenames or directories\n",
    "import pickle #for saving data"
   ]
  },
  {
   "cell_type": "code",
   "execution_count": 2,
   "id": "b5c66091",
   "metadata": {},
   "outputs": [
    {
     "ename": "NameError",
     "evalue": "name 'files' is not defined",
     "output_type": "error",
     "traceback": [
      "\u001b[1;31m---------------------------------------------------------------------------\u001b[0m",
      "\u001b[1;31mNameError\u001b[0m                                 Traceback (most recent call last)",
      "\u001b[1;32m<ipython-input-2-2c246e4b840a>\u001b[0m in \u001b[0;36m<module>\u001b[1;34m\u001b[0m\n\u001b[0;32m      2\u001b[0m     \u001b[1;32mreturn\u001b[0m\u001b[1;33m(\u001b[0m\u001b[1;33m(\u001b[0m\u001b[0mx\u001b[0m\u001b[1;33m.\u001b[0m\u001b[0msplit\u001b[0m\u001b[1;33m(\u001b[0m\u001b[1;34m'\\\\'\u001b[0m\u001b[1;33m)\u001b[0m\u001b[1;33m[\u001b[0m\u001b[1;33m-\u001b[0m\u001b[1;36m1\u001b[0m\u001b[1;33m]\u001b[0m\u001b[1;33m)\u001b[0m\u001b[1;33m[\u001b[0m\u001b[1;33m-\u001b[0m\u001b[1;36m7\u001b[0m\u001b[1;33m:\u001b[0m\u001b[1;33m-\u001b[0m\u001b[1;36m4\u001b[0m\u001b[1;33m]\u001b[0m\u001b[1;33m)\u001b[0m\u001b[1;33m\u001b[0m\u001b[1;33m\u001b[0m\u001b[0m\n\u001b[0;32m      3\u001b[0m \u001b[1;33m\u001b[0m\u001b[0m\n\u001b[1;32m----> 4\u001b[1;33m \u001b[0mfile\u001b[0m \u001b[1;33m=\u001b[0m \u001b[0mfiles\u001b[0m\u001b[1;33m[\u001b[0m\u001b[1;36m0\u001b[0m\u001b[1;33m]\u001b[0m\u001b[1;33m\u001b[0m\u001b[1;33m\u001b[0m\u001b[0m\n\u001b[0m\u001b[0;32m      5\u001b[0m \u001b[0mprint\u001b[0m\u001b[1;33m(\u001b[0m\u001b[1;33m(\u001b[0m\u001b[0mfile\u001b[0m\u001b[1;33m.\u001b[0m\u001b[0msplit\u001b[0m\u001b[1;33m(\u001b[0m\u001b[1;34m'\\\\'\u001b[0m\u001b[1;33m)\u001b[0m\u001b[1;33m[\u001b[0m\u001b[1;33m-\u001b[0m\u001b[1;36m1\u001b[0m\u001b[1;33m]\u001b[0m\u001b[1;33m)\u001b[0m\u001b[1;33m[\u001b[0m\u001b[1;33m-\u001b[0m\u001b[1;36m7\u001b[0m\u001b[1;33m:\u001b[0m\u001b[1;33m-\u001b[0m\u001b[1;36m4\u001b[0m\u001b[1;33m]\u001b[0m\u001b[1;33m)\u001b[0m\u001b[1;33m\u001b[0m\u001b[1;33m\u001b[0m\u001b[0m\n",
      "\u001b[1;31mNameError\u001b[0m: name 'files' is not defined"
     ]
    }
   ],
   "source": [
    "def last_3chars(x):\n",
    "    return((x.split('\\\\')[-1])[-7:-4])\n",
    "\n",
    "file = files[0]\n",
    "print((file.split('\\\\')[-1])[-7:-4])"
   ]
  },
  {
   "cell_type": "code",
   "execution_count": 4,
   "id": "fccd8848",
   "metadata": {},
   "outputs": [
    {
     "name": "stdout",
     "output_type": "stream",
     "text": [
      "Z:\\Gregor L\\__Kai Colloids\\7-13-22_30C_24hr\\all tiff files\\\n"
     ]
    },
    {
     "name": "stderr",
     "output_type": "stream",
     "text": [
      "C:\\Users\\gleech\\Documents\\GitHub\\kai codes\\kai_colloids\\tiff_file.py:724: FutureWarning: arrays to stack must be passed as a \"sequence\" type such as list or tuple. Support for non-sequence iterables such as generators is deprecated as of NumPy 1.16 and will raise an error in the future.\n",
      "  result = numpy.vstack((p.asarray() if p else nopage)\n"
     ]
    },
    {
     "name": "stdout",
     "output_type": "stream",
     "text": [
      "Z:\\Gregor L\\__Kai Colloids\\7-13-22_30C_24hr\\all tiff files\\bottom_row_t1_MMStack_Pos0.ome.tif\n"
     ]
    }
   ],
   "source": [
    "import os.path\n",
    "os.path.join('first_part', 'second_part')\n",
    "\n",
    "directory = \"Z\"\n",
    "exp = \"7-13-22_30C_24hr\"\n",
    "\n",
    "#base_dir = directory+\":\\\\Gregor L\\\\__Kai Colloids\\\\\"+exp+\"\\\\all tiff files\\\\\"\n",
    "base_dir = directory+\":\\\\Gregor L\\\\__Kai Colloids\\\\\"+exp+\"\\\\\"\n",
    "\n",
    "#new_tif_dir = os.path.join(base_dir, 'all tiff files')\n",
    "new_tif_dir = directory+\":\\\\Gregor L\\\\__Kai Colloids\\\\\"+exp+\"\\\\all tiff files\\\\\"\n",
    "print(new_tif_dir)\n",
    "\n",
    "\n",
    "folder = \"bottom_row_t1\"\n",
    "get_tiff_dir = directory+\":\\\\Gregor L\\\\__Kai Colloids\\\\\"+exp+\"\\\\\"+folder+\"\\\\\"  #bottom_row_t01\\\\\n",
    "files = glob.glob(get_tiff_dir+\"*.ome.tif\")\n",
    "tiff_obj = tiff_file.imread(files[0])\n",
    "\n",
    "full_filename = files[0]\n",
    "specific_file = (full_filename.split('\\\\')[-1]) #[12:-21]\n",
    "print(new_tif_dir + specific_file)\n",
    "\n",
    "tiff_file.imsave(new_tif_dir + specific_file, tiff_obj)"
   ]
  },
  {
   "cell_type": "code",
   "execution_count": 5,
   "id": "14fa5694",
   "metadata": {},
   "outputs": [
    {
     "name": "stdout",
     "output_type": "stream",
     "text": [
      "found 18 files\n",
      " 0 \t bottom_row_t1\n",
      " 1 \t bottom_row_t2\n",
      " 2 \t bottom_row_t3\n",
      " 3 \t bottom_row_t4\n",
      " 4 \t bottom_row_t5\n",
      " 5 \t bottom_row_t6\n",
      " 6 \t middle_row_t1\n",
      " 7 \t middle_row_t2\n",
      " 8 \t middle_row_t3\n",
      " 9 \t middle_row_t4\n",
      " 10 \t middle_row_t5\n",
      " 11 \t middle_row_t6\n",
      " 12 \t top_row_t1\n",
      " 13 \t top_row_t2\n",
      " 14 \t top_row_t3\n",
      " 15 \t top_row_t4\n",
      " 16 \t top_row_t5\n",
      " 17 \t top_row_t6\n"
     ]
    }
   ],
   "source": [
    "folders = glob.glob(base_dir+\"*_t*\")\n",
    "print(\"found %i files\" % len(folders))\n",
    "for i,f in enumerate(folders): print (' %i \\t %s' % (i, f.split('\\\\')[-1]))"
   ]
  },
  {
   "cell_type": "code",
   "execution_count": 23,
   "id": "2ab8c7c6",
   "metadata": {},
   "outputs": [
    {
     "name": "stdout",
     "output_type": "stream",
     "text": [
      "found 1 files\n",
      " 0 \t bottom_row_t2_MMStack_Pos0.ome.tif\n",
      "(1440, 1920)\n",
      "(1440, 1920)\n",
      "(1440, 1920)\n",
      "(1440, 1920)\n",
      "[[[1503 1508 1569 ... 1673 1639 1647]\n",
      "  [1481 1523 1519 ... 1647 1642 1616]\n",
      "  [1456 1479 1494 ... 1646 1630 1635]\n",
      "  ...\n",
      "  [2149 2214 2181 ... 1994 2018 1973]\n",
      "  [2159 2224 2256 ... 2028 1972 1975]\n",
      "  [2216 2221 2298 ... 1994 1941 1956]]\n",
      "\n",
      " [[1654 1603 1577 ... 1721 1715 1721]\n",
      "  [1720 1684 1622 ... 1702 1713 1721]\n",
      "  [1773 1728 1676 ... 1730 1717 1680]\n",
      "  ...\n",
      "  [1942 1898 1886 ... 2393 2327 2243]\n",
      "  [1958 1905 1908 ... 2509 2462 2379]\n",
      "  [1954 1940 1933 ... 2602 2549 2502]]\n",
      "\n",
      " [[1533 1462 1481 ... 1515 1483 1439]\n",
      "  [1512 1547 1534 ... 1457 1447 1445]\n",
      "  [1509 1529 1525 ... 1452 1456 1485]\n",
      "  ...\n",
      "  [2411 2360 2307 ... 1484 1574 1588]\n",
      "  [2317 2344 2322 ... 1544 1591 1663]\n",
      "  [2361 2332 2332 ... 1551 1612 1691]]\n",
      "\n",
      " [[1598 1578 1602 ... 1699 1752 1687]\n",
      "  [1581 1556 1576 ... 1669 1660 1718]\n",
      "  [1578 1577 1577 ... 1690 1698 1692]\n",
      "  ...\n",
      "  [1897 1903 1885 ... 1648 1663 1663]\n",
      "  [1921 1922 1899 ... 1663 1673 1698]\n",
      "  [1945 1935 1922 ... 1631 1680 1664]]]\n"
     ]
    }
   ],
   "source": [
    "tiff_folder = folders[1]\n",
    "#print(tiff_folder)\n",
    "files = glob.glob(tiff_folder+\"\\*.ome.tif\")\n",
    "print(\"found %i files\" % len(files))\n",
    "for i,f in enumerate(files): print (' %i \\t %s' % (i, f.split('\\\\')[-1]))\n",
    "    \n",
    "full_filename = files[0]\n",
    "specific_file = (full_filename.split('\\\\')[-1])[:-21]\n",
    "new_tiff = np.zeros((4, 1440, 1920), dtype=np.uint16)\n",
    "\n",
    "for j in range(4):\n",
    "    tiff_obj = tiff_file.imread(files[0],key=[j])\n",
    "    print(tiff_obj.shape)\n",
    "    new_tiff[j] = tiff_obj\n",
    "    #new_tiff.append(tiff_obj)\n",
    "#new_tiff_list = new_tiff.tolist()\n",
    "#print(new_tif_dir + specific_file)\n",
    "#print(np.stack((new_tiff[0],new_tiff[1],new_tiff[2],new_tiff[3])))\n",
    "print(np.stack(new_tiff))\n",
    "\n",
    "\n",
    "tiff_file.imsave(new_tif_dir + specific_file + '.tif', np.stack(new_tiff))"
   ]
  },
  {
   "cell_type": "code",
   "execution_count": null,
   "id": "98714a53",
   "metadata": {},
   "outputs": [],
   "source": [
    "get_tiff_dir = directory+\":\\\\Gregor L\\\\__Kai Colloids\\\\\"+exp+\"\\\\\"+tiff_folder+\"\\\\\"  #bottom_row_t01\\\\\n",
    "files = glob.glob(get_tiff_dir+\"*.ome.tif\")\n",
    "tiff_obj = tiff_file.imread(files[0])\n",
    "\n",
    "print(\"found %i files\" % len(files))\n",
    "for i,f in enumerate(files): print (' %i \\t %s' % (i, f.split('\\\\')[-1]))\n",
    "print(files[0])"
   ]
  }
 ],
 "metadata": {
  "kernelspec": {
   "display_name": "Python 3",
   "language": "python",
   "name": "python3"
  },
  "language_info": {
   "codemirror_mode": {
    "name": "ipython",
    "version": 3
   },
   "file_extension": ".py",
   "mimetype": "text/x-python",
   "name": "python",
   "nbconvert_exporter": "python",
   "pygments_lexer": "ipython3",
   "version": "3.8.8"
  }
 },
 "nbformat": 4,
 "nbformat_minor": 5
}
