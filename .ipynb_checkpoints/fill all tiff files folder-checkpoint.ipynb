{
 "cells": [
  {
   "cell_type": "code",
   "execution_count": 2,
   "id": "4eef39e4",
   "metadata": {},
   "outputs": [],
   "source": [
    "%matplotlib notebook\n",
    "import numpy as np\n",
    "from numpy.fft import fft2, ifft2, fftshift\n",
    "import matplotlib\n",
    "from matplotlib import pyplot as plt\n",
    "from matplotlib import cm\n",
    "import scipy\n",
    "from scipy.ndimage import gaussian_filter1d as gf1d\n",
    "from scipy.ndimage import gaussian_filter as gf\n",
    "from scipy.ndimage import uniform_filter as uf\n",
    "\n",
    "import sys\n",
    "sys.path.append(\"../kai_colloids/PyDDM\") #must point to the PyDDM folder\n",
    "import ddm_analysis_and_fitting as ddm\n",
    "\n",
    "import tiff_file\n",
    "import ddm_clean \n",
    "\n",
    "import io \n",
    "import sys\n",
    "import csv\n",
    "import os\n",
    "import glob #glob is helpful for searching for filenames or directories\n",
    "import pickle #for saving data"
   ]
  },
  {
   "cell_type": "code",
   "execution_count": 4,
   "id": "b5c66091",
   "metadata": {},
   "outputs": [],
   "source": [
    "def last_3chars(x):\n",
    "    return((x.split('\\\\')[-1])[-7:-4])"
   ]
  },
  {
   "cell_type": "code",
   "execution_count": 5,
   "id": "fccd8848",
   "metadata": {},
   "outputs": [
    {
     "name": "stdout",
     "output_type": "stream",
     "text": [
      "Z:\\Gregor L\\__Kai Colloids\\8-24-22_s1_568kB_EA,WT,1-3WT\\all tiff files\\\n"
     ]
    }
   ],
   "source": [
    "directory = \"Z\"\n",
    "exp = \"8-24-22_s1_568kB_EA,WT,1-3WT\"\n",
    "\n",
    "base_dir = directory+\":\\\\Gregor L\\\\__Kai Colloids\\\\\"+exp+\"\\\\\"\n",
    "\n",
    "new_tif_dir = directory+\":\\\\Gregor L\\\\__Kai Colloids\\\\\"+exp+\"\\\\all tiff files\\\\\"\n",
    "print(new_tif_dir)"
   ]
  },
  {
   "cell_type": "code",
   "execution_count": 13,
   "id": "14fa5694",
   "metadata": {},
   "outputs": [
    {
     "name": "stdout",
     "output_type": "stream",
     "text": [
      "found 18 files\n",
      " 0 \t 20x_bottom_row_g4\n",
      " 1 \t 20x_middle_row_g4\n",
      " 2 \t 20x_top_row_g4\n",
      " 3 \t bottom_row_t1\n",
      " 4 \t bottom_row_t2\n",
      " 5 \t bottom_row_t3\n",
      " 6 \t f1_middle_row\n",
      " 7 \t f2_middle_row\n",
      " 8 \t f3_middle_row\n",
      " 9 \t f4_20x_bottom_row\n",
      " 10 \t f4_20x_middle_row\n",
      " 11 \t f4_20x_top_row\n",
      " 12 \t middle_row_t1\n",
      " 13 \t middle_row_t2\n",
      " 14 \t middle_row_t3\n",
      " 15 \t top_row_t1\n",
      " 16 \t top_row_t2\n",
      " 17 \t top_row_t3\n"
     ]
    }
   ],
   "source": [
    "folders = glob.glob(base_dir+\"*_*\")\n",
    "print(\"found %i files\" % len(folders))\n",
    "for i,f in enumerate(folders): print (' %i \\t %s' % (i, f.split('\\\\')[-1]))"
   ]
  },
  {
   "cell_type": "code",
   "execution_count": 14,
   "id": "6cc1765b",
   "metadata": {},
   "outputs": [
    {
     "ename": "TypeError",
     "evalue": "len() takes exactly one argument (0 given)",
     "output_type": "error",
     "traceback": [
      "\u001b[1;31m---------------------------------------------------------------------------\u001b[0m",
      "\u001b[1;31mTypeError\u001b[0m                                 Traceback (most recent call last)",
      "\u001b[1;32m<ipython-input-14-adf3103c7c3e>\u001b[0m in \u001b[0;36m<module>\u001b[1;34m\u001b[0m\n\u001b[1;32m----> 1\u001b[1;33m \u001b[0mlen\u001b[0m\u001b[1;33m(\u001b[0m\u001b[1;33m)\u001b[0m\u001b[1;33m\u001b[0m\u001b[1;33m\u001b[0m\u001b[0m\n\u001b[0m",
      "\u001b[1;31mTypeError\u001b[0m: len() takes exactly one argument (0 given)"
     ]
    }
   ],
   "source": [
    "len()"
   ]
  },
  {
   "cell_type": "code",
   "execution_count": 19,
   "id": "2ab8c7c6",
   "metadata": {},
   "outputs": [
    {
     "name": "stdout",
     "output_type": "stream",
     "text": [
      "found 1 files\n",
      " 0 \t 20x_bottom_row_g4_MMStack_Pos0.ome.tif\n"
     ]
    },
    {
     "name": "stderr",
     "output_type": "stream",
     "text": [
      "C:\\Users\\gleech\\Documents\\GitHub\\kai codes\\kai_colloids\\tiff_file.py:724: FutureWarning: arrays to stack must be passed as a \"sequence\" type such as list or tuple. Support for non-sequence iterables such as generators is deprecated as of NumPy 1.16 and will raise an error in the future.\n",
      "  result = numpy.vstack((p.asarray() if p else nopage)\n"
     ]
    },
    {
     "name": "stdout",
     "output_type": "stream",
     "text": [
      "found 1 files\n",
      " 0 \t 20x_middle_row_g4_MMStack_Pos0.ome.tif\n",
      "found 1 files\n",
      " 0 \t 20x_top_row_g4_MMStack_Pos0.ome.tif\n",
      "found 1 files\n",
      " 0 \t bottom_row_t1_MMStack_Pos0.ome.tif\n",
      "found 1 files\n",
      " 0 \t bottom_row_t2_MMStack_Pos0.ome.tif\n",
      "found 1 files\n",
      " 0 \t bottom_row_t3_MMStack_Pos0.ome.tif\n",
      "found 1 files\n",
      " 0 \t f1_middle_row_MMStack_Pos0.ome.tif\n",
      "j =0\n",
      "j =2\n",
      "j =4\n",
      "j =6\n",
      "found 1 files\n",
      " 0 \t f2_middle_row_MMStack_Pos0.ome.tif\n",
      "j =0\n",
      "j =2\n",
      "j =4\n",
      "j =6\n",
      "found 1 files\n",
      " 0 \t f3_middle_row_MMStack_Pos0.ome.tif\n",
      "j =0\n",
      "j =2\n",
      "j =4\n",
      "j =6\n",
      "found 1 files\n",
      " 0 \t f4_20x_bottom_row_MMStack_Pos0.ome.tif\n",
      "j =0\n",
      "j =2\n",
      "j =4\n",
      "j =6\n",
      "found 1 files\n",
      " 0 \t f4_20x_middle_row_MMStack_Pos0.ome.tif\n",
      "j =0\n",
      "j =2\n",
      "j =4\n",
      "j =6\n",
      "found 1 files\n",
      " 0 \t f4_20x_top_row_MMStack_Pos0.ome.tif\n",
      "j =0\n",
      "j =2\n",
      "j =4\n",
      "j =6\n",
      "found 1 files\n",
      " 0 \t middle_row_t1_MMStack_Pos0.ome.tif\n",
      "found 1 files\n",
      " 0 \t middle_row_t2_MMStack_Pos0.ome.tif\n",
      "found 1 files\n",
      " 0 \t middle_row_t3_MMStack_Pos0.ome.tif\n",
      "found 1 files\n",
      " 0 \t top_row_t1_MMStack_Pos0.ome.tif\n",
      "found 1 files\n",
      " 0 \t top_row_t2_MMStack_Pos0.ome.tif\n",
      "found 1 files\n",
      " 0 \t top_row_t3_MMStack_Pos0.ome.tif\n"
     ]
    }
   ],
   "source": [
    "for i in range(int(len(folders))):\n",
    "    tiff_folder = folders[i]\n",
    "    #print(tiff_folder)\n",
    "    files = glob.glob(tiff_folder+\"\\*.ome.tif\")\n",
    "    print(\"found %i files\" % len(files))\n",
    "    for i,f in enumerate(files): print (' %i \\t %s' % (i, f.split('\\\\')[-1]))\n",
    "        \n",
    "    full_filename = files[0]\n",
    "    specific_file = (full_filename.split('\\\\')[-1])[:-21]\n",
    "    \n",
    "    tiff_length = len(tiff_file.imread(files[0]))\n",
    "    \n",
    "    if tiff_length == 4:\n",
    "        new_tiff = np.zeros((5, 1440, 1920), dtype=np.uint16)\n",
    "        for j in range(tiff_length):\n",
    "            tiff_obj = tiff_file.imread(files[0],key=[j])\n",
    "            new_tiff[j] = tiff_obj\n",
    "        tiff_file.imsave(new_tif_dir + specific_file + '.tif', new_tiff)\n",
    "        \n",
    "    elif tiff_length == 8:\n",
    "        frame_num = [0, 2, 4, 6]\n",
    "        new_tiff_488 = np.zeros((5, 1440, 1920), dtype=np.uint16)\n",
    "        new_tiff_568 = np.zeros((5, 1440, 1920), dtype=np.uint16)\n",
    "        for k in [0, 1, 2, 3]:\n",
    "            j = frame_num[k]\n",
    "            #print(\"j =\" + str(j))\n",
    "            tiff_obj_488 = tiff_file.imread(files[0],key=[j])\n",
    "            new_tiff_488[k] = tiff_obj_488\n",
    "            tiff_obj_568 = tiff_file.imread(files[0],key=[j+1])\n",
    "            new_tiff_568[k] = tiff_obj_568\n",
    "        tiff_file.imsave(new_tif_dir + specific_file + '_488.tif', new_tiff_488)\n",
    "        tiff_file.imsave(new_tif_dir + specific_file + '_568.tif', new_tiff_568)\n"
   ]
  },
  {
   "cell_type": "code",
   "execution_count": 12,
   "id": "3702a192",
   "metadata": {},
   "outputs": [
    {
     "name": "stdout",
     "output_type": "stream",
     "text": [
      "4\n"
     ]
    },
    {
     "name": "stderr",
     "output_type": "stream",
     "text": [
      "C:\\Users\\gleech\\Documents\\GitHub\\kai codes\\kai_colloids\\tiff_file.py:724: FutureWarning: arrays to stack must be passed as a \"sequence\" type such as list or tuple. Support for non-sequence iterables such as generators is deprecated as of NumPy 1.16 and will raise an error in the future.\n",
      "  result = numpy.vstack((p.asarray() if p else nopage)\n"
     ]
    }
   ],
   "source": [
    "print(len(tiff_file.imread(files[0])))"
   ]
  },
  {
   "cell_type": "code",
   "execution_count": null,
   "id": "98714a53",
   "metadata": {},
   "outputs": [],
   "source": []
  }
 ],
 "metadata": {
  "kernelspec": {
   "display_name": "Python 3",
   "language": "python",
   "name": "python3"
  },
  "language_info": {
   "codemirror_mode": {
    "name": "ipython",
    "version": 3
   },
   "file_extension": ".py",
   "mimetype": "text/x-python",
   "name": "python",
   "nbconvert_exporter": "python",
   "pygments_lexer": "ipython3",
   "version": "3.8.8"
  }
 },
 "nbformat": 4,
 "nbformat_minor": 5
}
