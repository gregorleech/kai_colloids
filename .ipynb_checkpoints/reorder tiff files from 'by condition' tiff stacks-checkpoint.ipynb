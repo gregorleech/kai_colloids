{
 "cells": [
  {
   "cell_type": "code",
   "execution_count": 2,
   "id": "4eef39e4",
   "metadata": {},
   "outputs": [],
   "source": [
    "%matplotlib notebook\n",
    "import numpy as np\n",
    "from numpy.fft import fft2, ifft2, fftshift\n",
    "import matplotlib\n",
    "from matplotlib import pyplot as plt\n",
    "from matplotlib import cm\n",
    "import scipy\n",
    "from scipy.ndimage import gaussian_filter1d as gf1d\n",
    "from scipy.ndimage import gaussian_filter as gf\n",
    "from scipy.ndimage import uniform_filter as uf\n",
    "\n",
    "import sys\n",
    "sys.path.append(\"../kai_colloids/PyDDM\") #must point to the PyDDM folder\n",
    "import ddm_analysis_and_fitting as ddm\n",
    "\n",
    "import tiff_file\n",
    "import ddm_clean \n",
    "\n",
    "import io \n",
    "import sys\n",
    "import csv\n",
    "import os\n",
    "import glob #glob is helpful for searching for filenames or directories\n",
    "import pickle #for saving data"
   ]
  },
  {
   "cell_type": "code",
   "execution_count": 2,
   "id": "b5c66091",
   "metadata": {},
   "outputs": [],
   "source": [
    "def last_3chars(x):\n",
    "    return((x.split('\\\\')[-1])[-7:-4])"
   ]
  },
  {
   "cell_type": "code",
   "execution_count": 3,
   "id": "fccd8848",
   "metadata": {},
   "outputs": [
    {
     "name": "stdout",
     "output_type": "stream",
     "text": [
      "found 28 files\n",
      "9\n",
      " 0 \t AE_40x_t1.tif\n",
      " 1 \t AE_40x_t2.tif\n",
      " 2 \t AE_40x_t3.tif\n",
      " 3 \t AE_40x_t4.tif\n",
      " 4 \t AE_40x_t5.tif\n",
      " 5 \t AE_40x_t6.tif\n",
      " 6 \t AE_40x_t7.tif\n",
      " 7 \t WT_1-3_40x_t1.tif\n",
      " 8 \t WT_1-3_40x_t2.tif\n",
      " 9 \t WT_1-3_40x_t3.tif\n",
      " 10 \t WT_1-3_40x_t4.tif\n",
      " 11 \t WT_1-3_40x_t5.tif\n",
      " 12 \t WT_1-3_40x_t6.tif\n",
      " 13 \t WT_1-3_40x_t7.tif\n",
      " 14 \t WT_2-1_40x_t1.tif\n",
      " 15 \t WT_2-1_40x_t2.tif\n",
      " 16 \t WT_2-1_40x_t3.tif\n",
      " 17 \t WT_2-1_40x_t4.tif\n",
      " 18 \t WT_2-1_40x_t5.tif\n",
      " 19 \t WT_2-1_40x_t6.tif\n",
      " 20 \t WT_2-1_40x_t7.tif\n",
      " 21 \t WT_nokaiA_40x_t1.tif\n",
      " 22 \t WT_nokaiA_40x_t2.tif\n",
      " 23 \t WT_nokaiA_40x_t3.tif\n",
      " 24 \t WT_nokaiA_40x_t4.tif\n",
      " 25 \t WT_nokaiA_40x_t5.tif\n",
      " 26 \t WT_nokaiA_40x_t6.tif\n",
      " 27 \t WT_nokaiA_40x_t7.tif\n"
     ]
    }
   ],
   "source": [
    "###################################################################################\n",
    "# Specify where the data is and file name for image (or image sequence)           #\n",
    "###################################################################################\n",
    "\n",
    "directory = \"Z\"\n",
    "exp = \"6-27-22_1-3_vs_2-1\"\n",
    "data_dir = directory+\":\\\\Gregor L\\\\__Kai Colloids\\\\\"+exp+\"\\\\all tiff files\\\\\" \n",
    "data_dir2 = directory+\":\\\\Gregor L\\\\__Kai Colloids\\\\\"+exp+\"\\\\reordered tiffs\\\\\" #bottom_row_t01\\\\\n",
    "plot_saveto= directory+\":\\\\Gregor L\\\\__Kai Colloids\\\\SIA\\\\Data\\\\\"+exp+\"\\\\\"\n",
    "\n",
    "files = glob.glob(data_dir+\"*_t*\")\n",
    "#files = sorted(files, key = last_3chars)\n",
    "print(\"found %i files\" % len(files))\n",
    "print(int((len(files))/3))\n",
    "for i,f in enumerate(files): print (' %i \\t %s' % (i, f.split('\\\\')[-1]))"
   ]
  },
  {
   "cell_type": "code",
   "execution_count": 7,
   "id": "3431a1e8",
   "metadata": {},
   "outputs": [
    {
     "name": "stdout",
     "output_type": "stream",
     "text": [
      "Z:\\Gregor L\\__Kai Colloids\\6-27-22_1-3_vs_2-1\\all tiff files\\AE_40x_t1.tif\n",
      "(5, 1440, 1920)\n",
      "5\n",
      "7\n"
     ]
    }
   ],
   "source": [
    "###### # specify each condition (frame_names) and the time points of data collection (time_array) #\n",
    "############################################################################################\n",
    "frame_names = [\"2-1 kA-KaiC\", \"1-3 kA-KaiC\", \"WT KaiC (-kA)\", \"AE KaiC (-kA)\"]\n",
    "#[\"EE KaiC (-kA)\", \"EA KaiC (-kA)\", \"WT KaiC (-kA)\", \"AE KaiC (-kA)\"]\n",
    "#[\"50% bKaiB\", \"35% bKaiB\", \"20% bKaiB\", \"AE (20% bKaiB)\"]\n",
    "#[\"1-3 kA-WT\", \"WT (no kA)\", \"EA KaiC\", \"AE KaiC\"]\n",
    "time_array =  [0.42, 4.75, 8.75, 12.75, 19.92, 22.92, 25.42]\n",
    "#[0.5, 4.5, 8, 12, 20, 24]\n",
    "#[0.5, 3.5, 6.5, 9.3, 12.1, 15, 18, 21, 24.5, 27.3, 40.5, 44.3]  \n",
    "#[0.5, 3.2, 17.75, 20, 22, 24.25, 26, 41.75, 44]\n",
    "#[0.85, 3.5, 18, 20.4, 22.25, 24.5, 26.2, 41.75, 44.2]\n",
    "#s1 [0.67, 3.67, 6.67, 10, 12.83, 17.67, 21.67, 24.92, 28.17, 45.67, 49.08, 69.25]\n",
    "#s2 [1, 3.83, 6.83, 10.17, 13.08, 18, 21.92, 25.25, 28.67, 45.92, 49.33, 69.42]\n",
    "fig_size = 10,10/1.618\n",
    "font_size = 16\n",
    "dpi_num = 800\n",
    "pixel_size = 0.364 # 4*0.091 = 0.364\n",
    "\n",
    "print((files[0]))\n",
    "eg_im= tiff_file.imread(files[0])\n",
    "print(eg_im.shape)\n",
    "frames_per_tiff = int(eg_im.shape[0])\n",
    "print(frames_per_tiff)\n",
    "arr_length = int((len(files))/4)\n",
    "print(arr_length)"
   ]
  },
  {
   "cell_type": "code",
   "execution_count": 12,
   "id": "e3f391e2",
   "metadata": {},
   "outputs": [
    {
     "name": "stdout",
     "output_type": "stream",
     "text": [
      "[[[0 0 0 ... 0 0 0]\n",
      "  [0 0 0 ... 0 0 0]\n",
      "  [0 0 0 ... 0 0 0]\n",
      "  ...\n",
      "  [0 0 0 ... 0 0 0]\n",
      "  [0 0 0 ... 0 0 0]\n",
      "  [0 0 0 ... 0 0 0]]\n",
      "\n",
      " [[0 0 0 ... 0 0 0]\n",
      "  [0 0 0 ... 0 0 0]\n",
      "  [0 0 0 ... 0 0 0]\n",
      "  ...\n",
      "  [0 0 0 ... 0 0 0]\n",
      "  [0 0 0 ... 0 0 0]\n",
      "  [0 0 0 ... 0 0 0]]\n",
      "\n",
      " [[0 0 0 ... 0 0 0]\n",
      "  [0 0 0 ... 0 0 0]\n",
      "  [0 0 0 ... 0 0 0]\n",
      "  ...\n",
      "  [0 0 0 ... 0 0 0]\n",
      "  [0 0 0 ... 0 0 0]\n",
      "  [0 0 0 ... 0 0 0]]\n",
      "\n",
      " [[0 0 0 ... 0 0 0]\n",
      "  [0 0 0 ... 0 0 0]\n",
      "  [0 0 0 ... 0 0 0]\n",
      "  ...\n",
      "  [0 0 0 ... 0 0 0]\n",
      "  [0 0 0 ... 0 0 0]\n",
      "  [0 0 0 ... 0 0 0]]\n",
      "\n",
      " [[0 0 0 ... 0 0 0]\n",
      "  [0 0 0 ... 0 0 0]\n",
      "  [0 0 0 ... 0 0 0]\n",
      "  ...\n",
      "  [0 0 0 ... 0 0 0]\n",
      "  [0 0 0 ... 0 0 0]\n",
      "  [0 0 0 ... 0 0 0]]]\n"
     ]
    }
   ],
   "source": [
    "#arr_length = int((len(files))/4)\n",
    "t_array = [\"_t1\", \"_t2\", \"_t3\", \"_t4\", \"_t5\", \"_t6\", \"_t7\"]\n",
    "frame1_testim = tiff_file.imread(files[0],key=[0])\n",
    "row1 = np.zeros((5, frame1_testim.shape[0], frame1_testim.shape[1]), dtype=np.uint16)\n",
    "row2 = np.zeros((5, frame1_testim.shape[0], frame1_testim.shape[1]), dtype=np.uint16)\n",
    "row3 = np.zeros((5, frame1_testim.shape[0], frame1_testim.shape[1]), dtype=np.uint16)\n",
    "print(row3)"
   ]
  },
  {
   "cell_type": "code",
   "execution_count": 13,
   "id": "14fa5694",
   "metadata": {},
   "outputs": [
    {
     "name": "stdout",
     "output_type": "stream",
     "text": [
      "(5, 1440, 1920)\n",
      "(5, 1440, 1920)\n",
      "(5, 1440, 1920)\n",
      "(5, 1440, 1920)\n",
      "(5, 1440, 1920)\n",
      "(5, 1440, 1920)\n",
      "(5, 1440, 1920)\n"
     ]
    }
   ],
   "source": [
    "###################################################################################################\n",
    "# makes new tiff files, each new tiff has all consecutive time points for each specific condition #\n",
    "###################################################################################################\n",
    "\n",
    "\n",
    "for i in range(arr_length):\n",
    "\n",
    "    for j in range(3):     \n",
    "        frame1_im = tiff_file.imread(files[i],key=[j])\n",
    "        frame2_im = tiff_file.imread(files[i+arr_length],key=[j])\n",
    "        frame3_im = tiff_file.imread(files[i+(arr_length*2)],key=[j])\n",
    "        frame4_im = tiff_file.imread(files[i+(arr_length*3)],key=[j])\n",
    "        #print(br_frame1_im.shape[0])\n",
    "    \n",
    "        if j == 0:\n",
    "            row1[0] = frame2_im  #WT 1-3\n",
    "            row1[1] = frame4_im  #WT no kaiA\n",
    "            row1[2] = frame3_im  #WT 2-1\n",
    "            row1[3] = frame1_im  #AE\n",
    "        if j == 1:\n",
    "            row2[0] = frame2_im\n",
    "            row2[1] = frame4_im\n",
    "            row2[2] = frame3_im\n",
    "            row2[3] = frame1_im\n",
    "        if j == 2:\n",
    "            row3[0] = frame2_im\n",
    "            row3[1] = frame4_im\n",
    "            row3[2] = frame3_im\n",
    "            row3[3] = frame1_im\n",
    "\n",
    "    tiff_file.imsave(data_dir2 +'row1_'+t_array[i]+'.tif', row1)\n",
    "    tiff_file.imsave(data_dir2 +'row2_'+t_array[i]+'.tif', row2)\n",
    "    tiff_file.imsave(data_dir2 +'row3_'+t_array[i]+'.tif', row3)\n",
    "    print(row1.shape)"
   ]
  },
  {
   "cell_type": "code",
   "execution_count": 28,
   "id": "6971d4e3",
   "metadata": {},
   "outputs": [
    {
     "ename": "TypeError",
     "evalue": "len() takes exactly one argument (0 given)",
     "output_type": "error",
     "traceback": [
      "\u001b[1;31m---------------------------------------------------------------------------\u001b[0m",
      "\u001b[1;31mTypeError\u001b[0m                                 Traceback (most recent call last)",
      "\u001b[1;32m<ipython-input-28-adf3103c7c3e>\u001b[0m in \u001b[0;36m<module>\u001b[1;34m\u001b[0m\n\u001b[1;32m----> 1\u001b[1;33m \u001b[0mlen\u001b[0m\u001b[1;33m(\u001b[0m\u001b[1;33m)\u001b[0m\u001b[1;33m\u001b[0m\u001b[1;33m\u001b[0m\u001b[0m\n\u001b[0m",
      "\u001b[1;31mTypeError\u001b[0m: len() takes exactly one argument (0 given)"
     ]
    }
   ],
   "source": [
    "#####################################################\n",
    "# **optional** preview of tiff files to be analyzed #\n",
    "#####################################################\n",
    "tiff_name = 'row3_'+frame_names[0]\n",
    "tiff_to_show = tiff_file.imread(data_dir2 +tiff_name+'.tif')\n",
    "\n",
    "fig = plt.figure(figsize=(10,10))    \n",
    "for i in range (arr_length):\n",
    "    ax = plt.subplot(4,4,i+1) ##change according to number of frames (6 --> 3,3; 12 --> 4,4)\n",
    "    ax.set_title(\"~\" + str(time_array[i]) + \" hrs\", fontsize=10)\n",
    "    ax.matshow(tiff_to_show[i], cmap = 'gray') #fig.set_cmap('hot') \n",
    "    plt.axis('off')\n",
    "    plt.tight_layout(pad=.25)\n",
    "fig.savefig(data_dir2+tiff_name+\".jpg\", dpi=(dpi_num))"
   ]
  },
  {
   "cell_type": "code",
   "execution_count": null,
   "id": "2ab8c7c6",
   "metadata": {},
   "outputs": [],
   "source": []
  },
  {
   "cell_type": "code",
   "execution_count": null,
   "id": "ea344acd",
   "metadata": {},
   "outputs": [],
   "source": []
  },
  {
   "cell_type": "code",
   "execution_count": null,
   "id": "98714a53",
   "metadata": {},
   "outputs": [],
   "source": []
  }
 ],
 "metadata": {
  "kernelspec": {
   "display_name": "Python 3",
   "language": "python",
   "name": "python3"
  },
  "language_info": {
   "codemirror_mode": {
    "name": "ipython",
    "version": 3
   },
   "file_extension": ".py",
   "mimetype": "text/x-python",
   "name": "python",
   "nbconvert_exporter": "python",
   "pygments_lexer": "ipython3",
   "version": "3.8.8"
  }
 },
 "nbformat": 4,
 "nbformat_minor": 5
}
