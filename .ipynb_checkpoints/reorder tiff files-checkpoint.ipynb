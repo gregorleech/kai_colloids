{
 "cells": [
  {
   "cell_type": "code",
   "execution_count": 1,
   "id": "4eef39e4",
   "metadata": {},
   "outputs": [
    {
     "name": "stdout",
     "output_type": "stream",
     "text": [
      "nd2reader module not found. Reading of .nd2 files disabled.\n"
     ]
    },
    {
     "name": "stderr",
     "output_type": "stream",
     "text": [
      "C:\\Users\\gleech\\Documents\\GitHub\\kai codes\\kai_colloids\\tiff_file.py:1995: UserWarning: failed to import _tifffile.decodepackbits\n",
      "  warnings.warn(\"failed to import %s\" % module_function)\n",
      "C:\\Users\\gleech\\Documents\\GitHub\\kai codes\\kai_colloids\\tiff_file.py:1995: UserWarning: failed to import _tifffile.decodelzw\n",
      "  warnings.warn(\"failed to import %s\" % module_function)\n",
      "C:\\Users\\gleech\\Documents\\GitHub\\kai codes\\kai_colloids\\tiff_file.py:1995: UserWarning: failed to import _tifffile.unpackints\n",
      "  warnings.warn(\"failed to import %s\" % module_function)\n"
     ]
    }
   ],
   "source": [
    "%matplotlib notebook\n",
    "import numpy as np\n",
    "from numpy.fft import fft2, ifft2, fftshift\n",
    "import matplotlib\n",
    "from matplotlib import pyplot as plt\n",
    "from matplotlib import cm\n",
    "import scipy\n",
    "from scipy.ndimage import gaussian_filter1d as gf1d\n",
    "from scipy.ndimage import gaussian_filter as gf\n",
    "from scipy.ndimage import uniform_filter as uf\n",
    "\n",
    "import sys\n",
    "sys.path.append(\"../kai_colloids/PyDDM\") #must point to the PyDDM folder\n",
    "import ddm_analysis_and_fitting as ddm\n",
    "\n",
    "import tiff_file\n",
    "import ddm_clean \n",
    "\n",
    "import io \n",
    "import sys\n",
    "import csv\n",
    "import os\n",
    "import glob #glob is helpful for searching for filenames or directories\n",
    "import pickle #for saving data"
   ]
  },
  {
   "cell_type": "code",
   "execution_count": 2,
   "id": "b5c66091",
   "metadata": {},
   "outputs": [],
   "source": [
    "def last_3chars(x):\n",
    "    return((x.split('\\\\')[-1])[-7:-4])"
   ]
  },
  {
   "cell_type": "code",
   "execution_count": 3,
   "id": "fccd8848",
   "metadata": {},
   "outputs": [
    {
     "name": "stdout",
     "output_type": "stream",
     "text": [
      "found 36 files\n",
      "12\n",
      " 0 \t row1_t01.tif\n",
      " 1 \t row1_t02.tif\n",
      " 2 \t row1_t03.tif\n",
      " 3 \t row1_t04.tif\n",
      " 4 \t row1_t05.tif\n",
      " 5 \t row1_t06.tif\n",
      " 6 \t row1_t07.tif\n",
      " 7 \t row1_t08.tif\n",
      " 8 \t row1_t09.tif\n",
      " 9 \t row1_t10.tif\n",
      " 10 \t row1_t11.tif\n",
      " 11 \t row1_t12.tif\n",
      " 12 \t row2_t01.tif\n",
      " 13 \t row2_t02.tif\n",
      " 14 \t row2_t03.tif\n",
      " 15 \t row2_t04.tif\n",
      " 16 \t row2_t05.tif\n",
      " 17 \t row2_t06.tif\n",
      " 18 \t row2_t07.tif\n",
      " 19 \t row2_t08.tif\n",
      " 20 \t row2_t09.tif\n",
      " 21 \t row2_t10.tif\n",
      " 22 \t row2_t11.tif\n",
      " 23 \t row2_t12.tif\n",
      " 24 \t row3_t01.tif\n",
      " 25 \t row3_t02.tif\n",
      " 26 \t row3_t03.tif\n",
      " 27 \t row3_t04.tif\n",
      " 28 \t row3_t05.tif\n",
      " 29 \t row3_t06.tif\n",
      " 30 \t row3_t07.tif\n",
      " 31 \t row3_t08.tif\n",
      " 32 \t row3_t09.tif\n",
      " 33 \t row3_t10.tif\n",
      " 34 \t row3_t11.tif\n",
      " 35 \t row3_t12.tif\n"
     ]
    }
   ],
   "source": [
    "###################################################################################\n",
    "# Specify where the data is and file name for image (or image sequence)           #\n",
    "###################################################################################\n",
    "\n",
    "directory = \"Z\"\n",
    "exp = \"9-5-22_s2_theBigOne\"\n",
    "data_dir = directory+\":\\\\Gregor L\\\\__Kai Colloids\\\\\"+exp+\"\\\\all tiff files\\\\\" \n",
    "data_dir2 = directory+\":\\\\Gregor L\\\\__Kai Colloids\\\\\"+exp+\"\\\\reordered tiffs\\\\\" #bottom_row_t01\\\\\n",
    "plot_saveto= directory+\":\\\\Gregor L\\\\__Kai Colloids\\\\SIA\\\\Data\\\\\"+exp+\"\\\\\"\n",
    "\n",
    "files = glob.glob(data_dir+\"*_t*\")\n",
    "#files = sorted(files, key = last_3chars)\n",
    "print(\"found %i files\" % len(files))\n",
    "print(int((len(files))/3))\n",
    "for i,f in enumerate(files): print (' %i \\t %s' % (i, f.split('\\\\')[-1]))"
   ]
  },
  {
   "cell_type": "code",
   "execution_count": 4,
   "id": "462d311d",
   "metadata": {},
   "outputs": [
    {
     "name": "stdout",
     "output_type": "stream",
     "text": [
      "Z:\\Gregor L\\__Kai Colloids\\9-5-22_s2_theBigOne\\all tiff files\\row1_t01.tif\n"
     ]
    },
    {
     "name": "stderr",
     "output_type": "stream",
     "text": [
      "C:\\Users\\gleech\\Documents\\GitHub\\kai codes\\kai_colloids\\tiff_file.py:724: FutureWarning: arrays to stack must be passed as a \"sequence\" type such as list or tuple. Support for non-sequence iterables such as generators is deprecated as of NumPy 1.16 and will raise an error in the future.\n",
      "  result = numpy.vstack((p.asarray() if p else nopage)\n"
     ]
    },
    {
     "name": "stdout",
     "output_type": "stream",
     "text": [
      "(5, 1440, 1920)\n",
      "5\n",
      "12\n"
     ]
    }
   ],
   "source": [
    "###### # specify each condition (frame_names) and the time points of data collection (time_array) #\n",
    "############################################################################################\n",
    "frame_names = [\"1-3 kA-WT\", \"WT (no kA)\", \"EA KaiC\", \"AE KaiC\"]\n",
    "time_array =  [1, 3.83, 6.83, 10.17, 13.08, 18, 21.92, 25.25, 28.67, 45.92, 49.33, 69.42]\n",
    "#[0.5, 4.5, 8, 12, 20, 24]\n",
    "#[0.5, 3.5, 6.5, 9.3, 12.1, 15, 18, 21, 24.5, 27.3, 40.5, 44.3]  \n",
    "#[0.5, 3.2, 17.75, 20, 22, 24.25, 26, 41.75, 44]\n",
    "#[0.85, 3.5, 18, 20.4, 22.25, 24.5, 26.2, 41.75, 44.2]\n",
    "#s1 [0.67, 3.67, 6.67, 10, 12.83, 17.67, 21.67, 24.92, 28.17, 45.67, 49.08, 69.25]\n",
    "#s2 [1, 3.83, 6.83, 10.17, 13.08, 18, 21.92, 25.25, 28.67, 45.92, 49.33, 69.42]\n",
    "fig_size = 10,10/1.618\n",
    "font_size = 16\n",
    "dpi_num = 800\n",
    "pixel_size = 0.364 # 4*0.091 = 0.364\n",
    "\n",
    "print((files[0]))\n",
    "eg_im= tiff_file.imread(files[0])\n",
    "print(eg_im.shape)\n",
    "frames_per_tiff = int(eg_im.shape[0])\n",
    "print(frames_per_tiff)\n",
    "arr_length = int((len(files))/3)\n",
    "print(arr_length)"
   ]
  },
  {
   "cell_type": "code",
   "execution_count": 27,
   "id": "14fa5694",
   "metadata": {},
   "outputs": [
    {
     "name": "stdout",
     "output_type": "stream",
     "text": [
      "found 72 files\n",
      " 0 \t 20x_row1_g01\n",
      " 1 \t 20x_row1_g02\n",
      " 2 \t 20x_row1_g03\n",
      " 3 \t 20x_row1_g04\n",
      " 4 \t 20x_row1_g05\n",
      " 5 \t 20x_row1_g06\n",
      " 6 \t 20x_row1_g07\n",
      " 7 \t 20x_row1_g08\n",
      " 8 \t 20x_row1_g09\n",
      " 9 \t 20x_row1_g10\n",
      " 10 \t 20x_row1_g11\n",
      " 11 \t 20x_row1_g12\n",
      " 12 \t 20x_row2_g01\n",
      " 13 \t 20x_row2_g02\n",
      " 14 \t 20x_row2_g03\n",
      " 15 \t 20x_row2_g04\n",
      " 16 \t 20x_row2_g05\n",
      " 17 \t 20x_row2_g06\n",
      " 18 \t 20x_row2_g07\n",
      " 19 \t 20x_row2_g08\n",
      " 20 \t 20x_row2_g09\n",
      " 21 \t 20x_row2_g10\n",
      " 22 \t 20x_row2_g11\n",
      " 23 \t 20x_row2_g12\n",
      " 24 \t 20x_row3_g01\n",
      " 25 \t 20x_row3_g02\n",
      " 26 \t 20x_row3_g03\n",
      " 27 \t 20x_row3_g04\n",
      " 28 \t 20x_row3_g05\n",
      " 29 \t 20x_row3_g06\n",
      " 30 \t 20x_row3_g07\n",
      " 31 \t 20x_row3_g08\n",
      " 32 \t 20x_row3_g09\n",
      " 33 \t 20x_row3_g10\n",
      " 34 \t 20x_row3_g11\n",
      " 35 \t 20x_row3_g12\n",
      " 36 \t row1_t01\n",
      " 37 \t row1_t02\n",
      " 38 \t row1_t03\n",
      " 39 \t row1_t04\n",
      " 40 \t row1_t05\n",
      " 41 \t row1_t06\n",
      " 42 \t row1_t07\n",
      " 43 \t row1_t08\n",
      " 44 \t row1_t09\n",
      " 45 \t row1_t10\n",
      " 46 \t row1_t11\n",
      " 47 \t row1_t12\n",
      " 48 \t row2_t01\n",
      " 49 \t row2_t02\n",
      " 50 \t row2_t03\n",
      " 51 \t row2_t04\n",
      " 52 \t row2_t05\n",
      " 53 \t row2_t06\n",
      " 54 \t row2_t07\n",
      " 55 \t row2_t08\n",
      " 56 \t row2_t09\n",
      " 57 \t row2_t10\n",
      " 58 \t row2_t11\n",
      " 59 \t row2_t12\n",
      " 60 \t row3_t01\n",
      " 61 \t row3_t02\n",
      " 62 \t row3_t03\n",
      " 63 \t row3_t04\n",
      " 64 \t row3_t05\n",
      " 65 \t row3_t06\n",
      " 66 \t row3_t07\n",
      " 67 \t row3_t08\n",
      " 68 \t row3_t09\n",
      " 69 \t row3_t10\n",
      " 70 \t row3_t11\n",
      " 71 \t row3_t12\n"
     ]
    }
   ],
   "source": [
    "###################################################################################################\n",
    "# makes new tiff files, each new tiff has all consecutive time points for each specific condition #\n",
    "###################################################################################################\n",
    "arr_length = int((len(files))/3)\n",
    "\n",
    "for j in range(frames_per_tiff-1):\n",
    "    frame_num = str(j+1)\n",
    "\n",
    "    for i in range(arr_length):    \n",
    "        row1_im = tiff_file.imread(files[i],key=[j])\n",
    "        row2_im = tiff_file.imread(files[i+arr_length],key=[j])\n",
    "        row3_im = tiff_file.imread(files[i+(arr_length*2)],key=[j])\n",
    "        #print(br_frame1_im.shape[0])\n",
    "        if i==0:\n",
    "            row1 = np.zeros((arr_length, row1_im.shape[0], row1_im.shape[1]), dtype=np.uint16)\n",
    "            row2 = np.zeros((arr_length, row1_im.shape[0], row1_im.shape[1]), dtype=np.uint16)\n",
    "            row3 = np.zeros((arr_length, row1_im.shape[0], row1_im.shape[1]), dtype=np.uint16)\n",
    "        row1[i] = row1_im\n",
    "        row2[i] = row2_im\n",
    "        row3[i] = row3_im\n",
    "\n",
    "    tiff_file.imsave(data_dir2 +'row1_'+frame_names[j]+'.tif', row1)\n",
    "    tiff_file.imsave(data_dir2 +'row2_'+frame_names[j]+'.tif', row2)\n",
    "    tiff_file.imsave(data_dir2 +'row3_'+frame_names[j]+'.tif', row3)\n",
    "    print(row1.shape)"
   ]
  },
  {
   "cell_type": "code",
   "execution_count": 28,
   "id": "6971d4e3",
   "metadata": {},
   "outputs": [
    {
     "ename": "TypeError",
     "evalue": "len() takes exactly one argument (0 given)",
     "output_type": "error",
     "traceback": [
      "\u001b[1;31m---------------------------------------------------------------------------\u001b[0m",
      "\u001b[1;31mTypeError\u001b[0m                                 Traceback (most recent call last)",
      "\u001b[1;32m<ipython-input-28-adf3103c7c3e>\u001b[0m in \u001b[0;36m<module>\u001b[1;34m\u001b[0m\n\u001b[1;32m----> 1\u001b[1;33m \u001b[0mlen\u001b[0m\u001b[1;33m(\u001b[0m\u001b[1;33m)\u001b[0m\u001b[1;33m\u001b[0m\u001b[1;33m\u001b[0m\u001b[0m\n\u001b[0m",
      "\u001b[1;31mTypeError\u001b[0m: len() takes exactly one argument (0 given)"
     ]
    }
   ],
   "source": [
    "#####################################################\n",
    "# **optional** preview of tiff files to be analyzed #\n",
    "#####################################################\n",
    "tiff_name = 'row3_'+frame_names[0]\n",
    "tiff_to_show = tiff_file.imread(data_dir2 +tiff_name+'.tif')\n",
    "\n",
    "fig = plt.figure(figsize=(10,10))    \n",
    "for i in range (arr_length):\n",
    "    ax = plt.subplot(4,4,i+1) ##change according to number of frames (6 --> 3,3; 12 --> 4,4)\n",
    "    ax.set_title(\"~\" + str(time_array[i]) + \" hrs\", fontsize=10)\n",
    "    ax.matshow(tiff_to_show[i], cmap = 'gray') #fig.set_cmap('hot') \n",
    "    plt.axis('off')\n",
    "    plt.tight_layout(pad=.25)\n",
    "fig.savefig(data_dir2+tiff_name+\".jpg\", dpi=(dpi_num))"
   ]
  },
  {
   "cell_type": "code",
   "execution_count": null,
   "id": "2ab8c7c6",
   "metadata": {},
   "outputs": [],
   "source": []
  },
  {
   "cell_type": "code",
   "execution_count": null,
   "id": "ea344acd",
   "metadata": {},
   "outputs": [],
   "source": []
  },
  {
   "cell_type": "code",
   "execution_count": null,
   "id": "98714a53",
   "metadata": {},
   "outputs": [],
   "source": []
  }
 ],
 "metadata": {
  "kernelspec": {
   "display_name": "Python 3",
   "language": "python",
   "name": "python3"
  },
  "language_info": {
   "codemirror_mode": {
    "name": "ipython",
    "version": 3
   },
   "file_extension": ".py",
   "mimetype": "text/x-python",
   "name": "python",
   "nbconvert_exporter": "python",
   "pygments_lexer": "ipython3",
   "version": "3.8.8"
  }
 },
 "nbformat": 4,
 "nbformat_minor": 5
}
