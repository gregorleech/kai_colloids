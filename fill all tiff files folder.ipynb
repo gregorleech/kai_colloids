{
 "cells": [
  {
   "cell_type": "code",
   "execution_count": 82,
   "id": "4eef39e4",
   "metadata": {},
   "outputs": [],
   "source": [
    "%matplotlib notebook\n",
    "import numpy as np\n",
    "from numpy.fft import fft2, ifft2, fftshift\n",
    "import matplotlib\n",
    "from matplotlib import pyplot as plt\n",
    "from matplotlib import cm\n",
    "import scipy\n",
    "from scipy.ndimage import gaussian_filter1d as gf1d\n",
    "from scipy.ndimage import gaussian_filter as gf\n",
    "from scipy.ndimage import uniform_filter as uf\n",
    "\n",
    "import sys\n",
    "sys.path.append(\"../kai_colloids/PyDDM\") #must point to the PyDDM folder\n",
    "import ddm_analysis_and_fitting as ddm\n",
    "\n",
    "import tiff_file\n",
    "import ddm_clean \n",
    "\n",
    "import io \n",
    "import sys\n",
    "import csv\n",
    "import os\n",
    "import glob #glob is helpful for searching for filenames or directories\n",
    "import pickle #for saving data"
   ]
  },
  {
   "cell_type": "code",
   "execution_count": 83,
   "id": "b5c66091",
   "metadata": {},
   "outputs": [
    {
     "name": "stdout",
     "output_type": "stream",
     "text": [
      "ome\n"
     ]
    }
   ],
   "source": [
    "def last_3chars(x):\n",
    "    return((x.split('\\\\')[-1])[-7:-4])\n",
    "\n",
    "file = files[0]\n",
    "print((file.split('\\\\')[-1])[-7:-4])"
   ]
  },
  {
   "cell_type": "code",
   "execution_count": 87,
   "id": "fccd8848",
   "metadata": {},
   "outputs": [
    {
     "name": "stdout",
     "output_type": "stream",
     "text": [
      "Z:\\Gregor L\\__Kai Colloids\\8-10-22_24hrWT_vs_WT\\all tiff files\\\n"
     ]
    }
   ],
   "source": [
    "directory = \"Z\"\n",
    "exp = \"8-10-22_24hrWT_vs_WT\"\n",
    "\n",
    "base_dir = directory+\":\\\\Gregor L\\\\__Kai Colloids\\\\\"+exp+\"\\\\\"\n",
    "\n",
    "new_tif_dir = directory+\":\\\\Gregor L\\\\__Kai Colloids\\\\\"+exp+\"\\\\all tiff files\\\\\"\n",
    "print(new_tif_dir)"
   ]
  },
  {
   "cell_type": "code",
   "execution_count": 90,
   "id": "14fa5694",
   "metadata": {},
   "outputs": [
    {
     "name": "stdout",
     "output_type": "stream",
     "text": [
      "found 9 files\n",
      " 0 \t bottom_row_t1\n",
      " 1 \t bottom_row_t2\n",
      " 2 \t bottom_row_t3\n",
      " 3 \t middle_row_t1\n",
      " 4 \t middle_row_t2\n",
      " 5 \t middle_row_t3\n",
      " 6 \t top_row_t1\n",
      " 7 \t top_row_t2\n",
      " 8 \t top_row_t3\n"
     ]
    }
   ],
   "source": [
    "folders = glob.glob(base_dir+\"*_t*\")\n",
    "print(\"found %i files\" % len(folders))\n",
    "for i,f in enumerate(folders): print (' %i \\t %s' % (i, f.split('\\\\')[-1]))"
   ]
  },
  {
   "cell_type": "code",
   "execution_count": 91,
   "id": "2ab8c7c6",
   "metadata": {},
   "outputs": [
    {
     "name": "stdout",
     "output_type": "stream",
     "text": [
      "found 1 files\n",
      " 0 \t bottom_row_t1_MMStack_Pos0.ome.tif\n",
      "found 1 files\n",
      " 0 \t bottom_row_t2_MMStack_Pos0.ome.tif\n",
      "found 1 files\n",
      " 0 \t bottom_row_t3_MMStack_Pos0.ome.tif\n",
      "found 1 files\n",
      " 0 \t middle_row_t1_MMStack_Pos0.ome.tif\n",
      "found 1 files\n",
      " 0 \t middle_row_t2_MMStack_Pos0.ome.tif\n",
      "found 1 files\n",
      " 0 \t middle_row_t3_MMStack_Pos0.ome.tif\n",
      "found 1 files\n",
      " 0 \t top_row_t1_MMStack_Pos0.ome.tif\n",
      "found 1 files\n",
      " 0 \t top_row_t2_MMStack_Pos0.ome.tif\n",
      "found 1 files\n",
      " 0 \t top_row_t3_MMStack_Pos0.ome.tif\n"
     ]
    }
   ],
   "source": [
    "for i in range(int(len(folders))):\n",
    "    tiff_folder = folders[i]\n",
    "    #print(tiff_folder)\n",
    "    files = glob.glob(tiff_folder+\"\\*.ome.tif\")\n",
    "    print(\"found %i files\" % len(files))\n",
    "    for i,f in enumerate(files): print (' %i \\t %s' % (i, f.split('\\\\')[-1]))\n",
    "        \n",
    "    full_filename = files[0]\n",
    "    specific_file = (full_filename.split('\\\\')[-1])[:-21]\n",
    "    new_tiff = np.zeros((5, 1440, 1920), dtype=np.uint16)\n",
    "    \n",
    "    for j in range(4):\n",
    "        tiff_obj = tiff_file.imread(files[0],key=[j])\n",
    "        new_tiff[j] = tiff_obj\n",
    "\n",
    "    tiff_file.imsave(new_tif_dir + specific_file + '.tif', new_tiff)"
   ]
  },
  {
   "cell_type": "code",
   "execution_count": null,
   "id": "98714a53",
   "metadata": {},
   "outputs": [],
   "source": []
  }
 ],
 "metadata": {
  "kernelspec": {
   "display_name": "Python 3",
   "language": "python",
   "name": "python3"
  },
  "language_info": {
   "codemirror_mode": {
    "name": "ipython",
    "version": 3
   },
   "file_extension": ".py",
   "mimetype": "text/x-python",
   "name": "python",
   "nbconvert_exporter": "python",
   "pygments_lexer": "ipython3",
   "version": "3.8.8"
  }
 },
 "nbformat": 4,
 "nbformat_minor": 5
}
